{
 "cells": [
  {
   "cell_type": "code",
   "execution_count": 6,
   "metadata": {},
   "outputs": [],
   "source": [
    "import os\n",
    "import sys\n",
    "import subprocess\n",
    "import shlex\n",
    "import operator"
   ]
  },
  {
   "cell_type": "markdown",
   "metadata": {},
   "source": [
    "## Transmission-Distribution Power Flow Co-simulation\n",
    "This script runs a transmission-distribution power flow. The network is assumed to consist of a single transmission network connected to distribution feeders at each load bus. The number of distribution feeders connected is determined based on the real power load at the bus and the injection of the distribution feeder. \n",
    "\n",
    "Here, as an example, the T and D networks consists of following:\n",
    "+ Transmission system: 200-bus network (synthetic network for Illinois system..from TAMU)\n",
    "+ Distribution feeder: IEEE 8500-node feeder."
   ]
  },
  {
   "cell_type": "code",
   "execution_count": 17,
   "metadata": {},
   "outputs": [
    {
     "name": "stdout",
     "output_type": "stream",
     "text": [
      "nbdry=2 \n",
      "nfeeders=2\n",
      "2,dcase_tbdry_2_feeder_1\n",
      "4,dcase_tbdry_4_feeder_1\n",
      "nfederates=3\n"
     ]
    }
   ],
   "source": [
    "\n",
    "# Metadafile having number of boundary buses \n",
    "# and the feeder connections at those buses\n",
    "file = open('metadatafile',\"r\")\n",
    "linenum = 1\n",
    "bdry_buses = []\n",
    "\n",
    "# Number of boundary buses selected\n",
    "# One can vary the number of boundary buses\n",
    "nbdry = 100\n",
    "dist_feeders = {}\n",
    "for line in file:\n",
    "    if linenum == 1:\n",
    "        nbdry_nfeeders = line.split(',')\n",
    "        nbdry = int(nbdry_nfeeders[0])\n",
    "        nfeeders = int(nbdry_nfeeders[1])\n",
    "#        print(\"%d,%d\" % (nbdry,nfeeders))\n",
    "    elif linenum < nbdry+2:\n",
    "        bdry_buses.append(line)\n",
    "    else:\n",
    "#        print line\n",
    "        values1 = line.rstrip(' \\n')\n",
    "        values = values1.split(',')\n",
    "        dist_feeders[values[1]]= int(values[0])  # name:boundary bus\n",
    " #       print '%s:%d' %(values[1],dist_feeders[values[1]])\n",
    "        \n",
    "    linenum = linenum+1\n",
    "    \n",
    "file.close()\n",
    "\n",
    "print 'nbdry=%d ' %nbdry\n",
    "print 'nfeeders=%d'%nfeeders\n",
    "for k in dist_feeders:\n",
    "    print(\"%d,%s\" %(dist_feeders[k],k))\n",
    "\n",
    "nfeds = nfeeders+1\n",
    "\n",
    "print 'nfederates=%d' %nfeds"
   ]
  },
  {
   "cell_type": "code",
   "execution_count": 18,
   "metadata": {},
   "outputs": [
    {
     "name": "stdout",
     "output_type": "stream",
     "text": [
      "Broker args\n",
      "-nfeds 3\n",
      "['./helicsbroker', '-nfeds', '3']\n",
      "T args\n",
      "-netfile case_ACTIVSg200.m -metadatafile metadatafile\n",
      "\n",
      "D federate dcase_tbdry_2_feeder_1 args\n",
      "-netfile /Users/Shri/packages/OpenDSSDirect.jl/examples/8500-Node/Master.dss -dtopic dcase_tbdry_2_feeder_1\n",
      "\n",
      "D federate dcase_tbdry_4_feeder_1 args\n",
      "-netfile /Users/Shri/packages/OpenDSSDirect.jl/examples/8500-Node/Master.dss -dtopic dcase_tbdry_4_feeder_1\n",
      "\n"
     ]
    }
   ],
   "source": [
    "%%python\n",
    "\n",
    "print 'Broker args'\n",
    "broker_args='-nfeds '+str(nfeds)\n",
    "print broker_args\n",
    "broker_cmdline='./helicsbroker '+broker_args\n",
    "broker = shlex.split(broker_cmdline)\n",
    "print broker\n",
    "## Launch broker\n",
    "subprocess.Popen(broker)\n",
    "\n",
    "##Launch Transmission federate\n",
    "print 'T args'\n",
    "netfile='case_ACTIVSg200.m'\n",
    "metadatafile='metadatafile'\n",
    "#print metadatafile\n",
    "# Launch Transmission federate simulation\n",
    "pflowhelicst_args_files  ='-netfile '+netfile+' -metadatafile '+metadatafile\n",
    "pflowhelicst_args=pflowhelicst_args_files\n",
    "print pflowhelicst_args+'\\n'\n",
    "pflowhelicst_cmdline='./PFLOWHELICST '+pflowhelicst_args\n",
    "pflowhelicst = shlex.split(pflowhelicst_cmdline)\n",
    "subprocess.Popen(pflowhelicst)\n",
    "\n",
    "\n",
    "##Launch distribution federates\n",
    "fednum=0\n",
    "dnetfile='/Users/Shri/packages/OpenDSSDirect.jl/examples/8500-Node/Master.dss'\n",
    "for k in dist_feeders:\n",
    "    fednum = fednum + 1\n",
    "    print 'D federate '+k+' args'\n",
    "    # Dist. federate 1\n",
    "    netfile=dnetfile\n",
    "    dtopic=k\n",
    "    pflowhelicsd_args = '-netfile '+netfile+' -dtopic '+dtopic\n",
    "    print pflowhelicsd_args+'\\n'\n",
    "    pflowhelicsd_cmdline='./PFLOWHELICSD '+pflowhelicsd_args\n",
    "    pflowhelicsd = shlex.split(pflowhelicsd_cmdline)\n",
    "    subprocess.Popen(pflowhelicsd)"
   ]
  },
  {
   "cell_type": "code",
   "execution_count": null,
   "metadata": {},
   "outputs": [],
   "source": []
  }
 ],
 "metadata": {
  "kernelspec": {
   "display_name": "Python 2",
   "language": "python",
   "name": "python2"
  },
  "language_info": {
   "codemirror_mode": {
    "name": "ipython",
    "version": 2
   },
   "file_extension": ".py",
   "mimetype": "text/x-python",
   "name": "python",
   "nbconvert_exporter": "python",
   "pygments_lexer": "ipython2",
   "version": "2.7.9"
  }
 },
 "nbformat": 4,
 "nbformat_minor": 2
}
