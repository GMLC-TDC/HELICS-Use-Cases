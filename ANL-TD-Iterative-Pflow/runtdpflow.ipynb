{
 "cells": [
  {
   "cell_type": "markdown",
   "metadata": {},
   "source": [
    "## Transmission-Distribution Power Flow Co-simulation\n",
    "This script runs an iterative transmission-distribution power flow. The network is assumed to consist of a single transmission network connected to distribution feeders at each load bus. The number of distribution feeders connected is determined based on the real power load at the bus and the injection of the distribution feeder. In this example, we use the following:\n",
    "+ Transmission system: 200-bus network (synthetic network for Illinois system..from TAMU)\n",
    "+ Distribution feeder: IEEE 8500-node feeder.\n",
    "\n",
    "The metadata1 supplied has the code for making the connection information for T and D. It is created by the supplied MATLAB function makemetadatafile.m. The metadatafile is required by both the transmission and distribution federates to configure the connection between T and D federates. One can vary the number of federates by setting 'nbdry_selected' variable in the code block below. With nbdry_selected=1, only the first boundary bus will be selected. This boundary bus is set to have three distribution federates (the number of federates is based on the active power load at the bus and the injection at the distribution feeder)"
   ]
  },
  {
   "cell_type": "code",
   "execution_count": 1,
   "metadata": {
    "collapsed": true
   },
   "outputs": [],
   "source": [
    "import os\n",
    "import sys\n",
    "import subprocess\n",
    "import shlex\n",
    "import operator"
   ]
  },
  {
   "cell_type": "code",
   "execution_count": 18,
   "metadata": {},
   "outputs": [
    {
     "name": "stdout",
     "output_type": "stream",
     "text": [
      "nbdry=1 \n",
      "nfeeders=3\n",
      "8\n",
      "8,dcase_tbdry_8_feeder_2\n",
      "8,dcase_tbdry_8_feeder_3\n",
      "8,dcase_tbdry_8_feeder_1\n",
      "nfederates=4\n"
     ]
    }
   ],
   "source": [
    "metadatafile='metadata1'\n",
    "\n",
    "nbdry_selected = 1\n",
    "# Metadafile having number of boundary buses \n",
    "# and the feeder connections at those buses\n",
    "file = open(metadatafile,\"r\")\n",
    "linenum = 1\n",
    "bdry_buses = []\n",
    "dist_feeders = {}\n",
    "for line in file:\n",
    "    if linenum == 1:\n",
    "        nbdry_nfeeders = line.rstrip(' \\n').split(',')\n",
    "        nbdry = int(nbdry_nfeeders[0])\n",
    "        nfeeders = int(nbdry_nfeeders[1])\n",
    "    elif linenum < nbdry+2:\n",
    "        if(len(bdry_buses) < nbdry_selected):\n",
    "            bdry_buses.append(line.rstrip(' \\n'))\n",
    "    else:\n",
    "        values1 = line.rstrip(' \\n')\n",
    "        values = values1.split(',')\n",
    "        if values[0] in bdry_buses:\n",
    "            dist_feeders[values[1]]= int(values[0])  # name:boundary bus       \n",
    "    linenum = linenum+1\n",
    "    \n",
    "file.close()\n",
    "\n",
    "nbdry=len(bdry_buses)\n",
    "nfeeders=len(dist_feeders)\n",
    "print 'nbdry=%d ' %nbdry\n",
    "print 'nfeeders=%d'%nfeeders\n",
    "# Create another metadatafile with the selected number of boundary buses and feeders\n",
    "fp = open('metadatafile',\"w\")\n",
    "fp.write(\"%d,%d\\n\" % (nbdry,nfeeders))\n",
    "for bus in bdry_buses:\n",
    "    print(\"%d\" % int(bus))\n",
    "    fp.write(\"%d\\n\" % int(bus))\n",
    "\n",
    "for k in dist_feeders:\n",
    "    fp.write(\"%d,%s\\n\" % (dist_feeders[k],k))\n",
    "    print(\"%d,%s\" % (dist_feeders[k],k))\n",
    "fp.close()\n",
    "\n",
    "nfeds = nfeeders+1\n",
    "\n",
    "print 'nfederates=%d' %nfeds\n",
    "\n",
    "metadatafile='metadatafile'"
   ]
  },
  {
   "cell_type": "code",
   "execution_count": 22,
   "metadata": {},
   "outputs": [
    {
     "name": "stdout",
     "output_type": "stream",
     "text": [
      "Broker\n",
      "./helicsbroker -nfeds 4\n",
      "\n",
      "Transmission\n",
      "./PFLOWHELICST -netfile datafiles/case_ACTIVSg200.m -metadatafile metadatafile\n",
      "\n",
      "D federate dcase_tbdry_8_feeder_2\n",
      "./PFLOWHELICSD -netfile datafiles/8500-Node/Master.dss -dtopic dcase_tbdry_8_feeder_2\n",
      "\n",
      "D federate dcase_tbdry_8_feeder_3\n",
      "./PFLOWHELICSD -netfile datafiles/8500-Node/Master.dss -dtopic dcase_tbdry_8_feeder_3\n",
      "\n",
      "D federate dcase_tbdry_8_feeder_1\n",
      "./PFLOWHELICSD -netfile datafiles/8500-Node/Master.dss -dtopic dcase_tbdry_8_feeder_1\n",
      "\n"
     ]
    }
   ],
   "source": [
    "print 'Broker'\n",
    "broker_args='-nfeds '+str(nfeds)\n",
    "broker_cmdline='./helicsbroker '+broker_args\n",
    "broker = shlex.split(broker_cmdline)\n",
    "print broker_cmdline+'\\n'\n",
    "## Launch broker\n",
    "subprocess.Popen(broker)\n",
    "\n",
    "##Launch Transmission federate\n",
    "print 'Transmission'\n",
    "netfile='datafiles/case_ACTIVSg200.m'\n",
    "#print metadatafile\n",
    "# Launch Transmission federate simulation\n",
    "pflowhelicst_args_files  ='-netfile '+netfile+' -metadatafile '+metadatafile\n",
    "pflowhelicst_args=pflowhelicst_args_files\n",
    "pflowhelicst_cmdline='./PFLOWHELICST '+pflowhelicst_args\n",
    "print pflowhelicst_cmdline+'\\n'\n",
    "pflowhelicst = shlex.split(pflowhelicst_cmdline)\n",
    "subprocess.Popen(pflowhelicst)\n",
    "\n",
    "\n",
    "##Launch distribution federates\n",
    "fednum=0\n",
    "dnetfile='datafiles/8500-Node/Master.dss'\n",
    "for k in dist_feeders:\n",
    "    fednum = fednum + 1\n",
    "    print 'D federate '+k\n",
    "    # Dist. federate 1\n",
    "    netfile=dnetfile\n",
    "    dtopic=k\n",
    "    pflowhelicsd_args = '-netfile '+netfile+' -dtopic '+dtopic\n",
    "    pflowhelicsd_cmdline='./PFLOWHELICSD '+pflowhelicsd_args\n",
    "    print pflowhelicsd_cmdline+'\\n'\n",
    "    pflowhelicsd = shlex.split(pflowhelicsd_cmdline)\n",
    "    subprocess.Popen(pflowhelicsd)"
   ]
  },
  {
   "cell_type": "code",
   "execution_count": null,
   "metadata": {
    "collapsed": true
   },
   "outputs": [],
   "source": []
  },
  {
   "cell_type": "code",
   "execution_count": null,
   "metadata": {
    "collapsed": true
   },
   "outputs": [],
   "source": []
  }
 ],
 "metadata": {
  "kernelspec": {
   "display_name": "Python 2",
   "language": "python",
   "name": "python2"
  },
  "language_info": {
   "codemirror_mode": {
    "name": "ipython",
    "version": 2
   },
   "file_extension": ".py",
   "mimetype": "text/x-python",
   "name": "python",
   "nbconvert_exporter": "python",
   "pygments_lexer": "ipython2",
   "version": "2.7.9"
  }
 },
 "nbformat": 4,
 "nbformat_minor": 2
}
